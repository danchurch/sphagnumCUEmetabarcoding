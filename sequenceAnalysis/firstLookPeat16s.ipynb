{
 "cells": [
  {
   "cell_type": "markdown",
   "id": "a73dbe03-1c77-420f-b42d-525af0f6353c",
   "metadata": {},
   "source": [
    "Here is a quick look into the 16s that came from Werner's peat samples."
   ]
  },
  {
   "cell_type": "code",
   "execution_count": 2,
   "id": "0caf9fe7-2173-4928-adbb-15189938729f",
   "metadata": {
    "scrolled": true
   },
   "outputs": [],
   "source": [
    "library(dada2)\n",
    "library(phyloseq)\n",
    "library(Biostrings)\n",
    "library(ape)\n",
    "library(ggplot2)\n",
    "library(RColorBrewer)\n",
    "load(file=\"/home/daniel/Documents/projects/wernerSphagnum/sequenceAnalysis/peat16sPS.rda\")"
   ]
  },
  {
   "cell_type": "code",
   "execution_count": 15,
   "id": "b25a9cb2-daea-47fa-8c94-c2c19f2137c1",
   "metadata": {},
   "outputs": [],
   "source": [
    "options(repr.plot.width = 20, repr.plot.height = 10)"
   ]
  },
  {
   "cell_type": "code",
   "execution_count": 20,
   "id": "30ce3601-ca0a-4f43-bef5-e2e63d8b68b0",
   "metadata": {},
   "outputs": [
    {
     "data": {
      "image/png": "[encoded data removed]",
      "text/plain": [
       "plot without title"
      ]
     },
     "metadata": {
      "image/png": {
       "height": 500,
       "width": 1000
      }
     },
     "output_type": "display_data"
    }
   ],
   "source": [
    "barplot(sort(sample_sums(ps), decreasing=TRUE), \n",
    "        ylab=\"number of reads\",\n",
    "        xlab=\"Sample number\",\n",
    "        cex.names=1.2, \n",
    "        las=2)"
   ]
  },
  {
   "cell_type": "markdown",
   "id": "79db357e-482a-4494-b287-7bb00497aaa0",
   "metadata": {},
   "source": [
    "Looks like three samples essentially failed: S27, S28, and S33. These are:"
   ]
  },
  {
   "cell_type": "code",
   "execution_count": 21,
   "id": "a4b4418f-7d2c-42f0-98e0-aafaacdb2e80",
   "metadata": {},
   "outputs": [
    {
     "data": {
      "text/html": [
       "<table class=\"dataframe\">\n",
       "<caption>A sample_data: 3 × 5</caption>\n",
       "<thead>\n",
       "\t<tr><th></th><th scope=col>SampleID</th><th scope=col>Subsite</th><th scope=col>DepthSection</th><th scope=col>EcoCont</th><th scope=col>Core</th></tr>\n",
       "\t<tr><th></th><th scope=col>&lt;chr&gt;</th><th scope=col>&lt;chr&gt;</th><th scope=col>&lt;dbl&gt;</th><th scope=col>&lt;chr&gt;</th><th scope=col>&lt;chr&gt;</th></tr>\n",
       "</thead>\n",
       "<tbody>\n",
       "\t<tr><th scope=row>S27</th><td>AT2_43-63 </td><td>Thermokarst</td><td>1</td><td>Ecological</td><td>AT2</td></tr>\n",
       "\t<tr><th scope=row>S28</th><td>AT2_63-83 </td><td>Thermokarst</td><td>2</td><td>Ecological</td><td>AT2</td></tr>\n",
       "\t<tr><th scope=row>S33</th><td>AT3_80-100</td><td>Thermokarst</td><td>2</td><td>Ecological</td><td>AT3</td></tr>\n",
       "</tbody>\n",
       "</table>\n"
      ],
      "text/latex": [
       "A sample\\_data: 3 × 5\n",
       "\\begin{tabular}{r|lllll}\n",
       "  & SampleID & Subsite & DepthSection & EcoCont & Core\\\\\n",
       "  & <chr> & <chr> & <dbl> & <chr> & <chr>\\\\\n",
       "\\hline\n",
       "\tS27 & AT2\\_43-63  & Thermokarst & 1 & Ecological & AT2\\\\\n",
       "\tS28 & AT2\\_63-83  & Thermokarst & 2 & Ecological & AT2\\\\\n",
       "\tS33 & AT3\\_80-100 & Thermokarst & 2 & Ecological & AT3\\\\\n",
       "\\end{tabular}\n"
      ],
      "text/markdown": [
       "\n",
       "A sample_data: 3 × 5\n",
       "\n",
       "| <!--/--> | SampleID &lt;chr&gt; | Subsite &lt;chr&gt; | DepthSection &lt;dbl&gt; | EcoCont &lt;chr&gt; | Core &lt;chr&gt; |\n",
       "|---|---|---|---|---|---|\n",
       "| S27 | AT2_43-63  | Thermokarst | 1 | Ecological | AT2 |\n",
       "| S28 | AT2_63-83  | Thermokarst | 2 | Ecological | AT2 |\n",
       "| S33 | AT3_80-100 | Thermokarst | 2 | Ecological | AT3 |\n",
       "\n"
      ],
      "text/plain": [
       "    SampleID   Subsite     DepthSection EcoCont    Core\n",
       "S27 AT2_43-63  Thermokarst 1            Ecological AT2 \n",
       "S28 AT2_63-83  Thermokarst 2            Ecological AT2 \n",
       "S33 AT3_80-100 Thermokarst 2            Ecological AT3 "
      ]
     },
     "metadata": {},
     "output_type": "display_data"
    }
   ],
   "source": [
    "sample_data(ps)[c(\"S27\",\"S28\",\"S33\")]"
   ]
  },
  {
   "cell_type": "markdown",
   "id": "4b35d28e-e9be-42cd-8260-51202127a231",
   "metadata": {},
   "source": [
    "Let's normalize by total read numbers in each sample (crude first adjustment to make them comparable). We'll also get ride of the low abundance samples and controls"
   ]
  },
  {
   "cell_type": "code",
   "execution_count": 23,
   "id": "757aa2a9-db4f-4267-9fb4-93c79429aec1",
   "metadata": {},
   "outputs": [],
   "source": [
    "ps.prop <- transform_sample_counts(ps, function(otu) otu/sum(otu))\n",
    "nonCfilt <- sample_data(ps.prop)$EcoCont != \"Control\"\n",
    "ps.prop.noC <- prune_samples(nonCfilt, ps.prop)\n",
    "nonLowAbuFilt <- !(sample_names(ps.prop.noC) %in% c(\"S27\",\"S28\",\"S33\"))\n",
    "ps.prop.noC <- prune_samples(nonLowAbuFilt, ps.prop.noC)"
   ]
  },
  {
   "cell_type": "markdown",
   "id": "0d34c946-2bae-4b19-9666-aa42a246bdae",
   "metadata": {},
   "source": [
    "Let's ordinate and label by depth and subsite (palsa or thermokarst):"
   ]
  },
  {
   "cell_type": "code",
   "execution_count": 25,
   "id": "b4f86124-8b9f-484b-af52-c9f58c685857",
   "metadata": {
    "scrolled": true
   },
   "outputs": [
    {
     "name": "stdout",
     "output_type": "stream",
     "text": [
      "Run 0 stress 0.1280735 \n",
      "Run 1 stress 0.1280735 \n",
      "... New best solution\n",
      "... Procrustes: rmse 2.62502e-06  max resid 9.780122e-06 \n",
      "... Similar to previous best\n",
      "Run 2 stress 0.1868194 \n",
      "Run 3 stress 0.1280735 \n",
      "... Procrustes: rmse 4.198068e-06  max resid 1.869143e-05 \n",
      "... Similar to previous best\n",
      "Run 4 stress 0.1280735 \n",
      "... New best solution\n",
      "... Procrustes: rmse 2.635242e-06  max resid 1.157272e-05 \n",
      "... Similar to previous best\n",
      "Run 5 stress 0.1280735 \n",
      "... Procrustes: rmse 1.417934e-06  max resid 5.588234e-06 \n",
      "... Similar to previous best\n",
      "Run 6 stress 0.1946438 \n",
      "Run 7 stress 0.2308912 \n",
      "Run 8 stress 0.1280735 \n",
      "... Procrustes: rmse 1.239668e-06  max resid 5.154216e-06 \n",
      "... Similar to previous best\n",
      "Run 9 stress 0.1868194 \n",
      "Run 10 stress 0.1280735 \n",
      "... Procrustes: rmse 1.142609e-06  max resid 3.432549e-06 \n",
      "... Similar to previous best\n",
      "Run 11 stress 0.1280735 \n",
      "... Procrustes: rmse 1.410799e-06  max resid 5.815962e-06 \n",
      "... Similar to previous best\n",
      "Run 12 stress 0.1280735 \n",
      "... Procrustes: rmse 9.522472e-06  max resid 4.228218e-05 \n",
      "... Similar to previous best\n",
      "Run 13 stress 0.1280735 \n",
      "... Procrustes: rmse 7.103879e-06  max resid 3.136111e-05 \n",
      "... Similar to previous best\n",
      "Run 14 stress 0.1280735 \n",
      "... Procrustes: rmse 5.490981e-06  max resid 2.424231e-05 \n",
      "... Similar to previous best\n",
      "Run 15 stress 0.1280735 \n",
      "... Procrustes: rmse 3.046381e-06  max resid 1.157466e-05 \n",
      "... Similar to previous best\n",
      "Run 16 stress 0.1280735 \n",
      "... Procrustes: rmse 5.303674e-06  max resid 2.340671e-05 \n",
      "... Similar to previous best\n",
      "Run 17 stress 0.1280735 \n",
      "... Procrustes: rmse 7.284985e-06  max resid 3.187616e-05 \n",
      "... Similar to previous best\n",
      "Run 18 stress 0.2546583 \n",
      "Run 19 stress 0.1280735 \n",
      "... Procrustes: rmse 4.004719e-06  max resid 1.759016e-05 \n",
      "... Similar to previous best\n",
      "Run 20 stress 0.1280735 \n",
      "... Procrustes: rmse 1.508166e-06  max resid 4.161626e-06 \n",
      "... Similar to previous best\n",
      "*** Best solution repeated 13 times\n"
     ]
    }
   ],
   "source": [
    "s.prop.noC.ord <- ordinate(ps.prop.noC, \"NMDS\", \"bray\")"
   ]
  },
  {
   "cell_type": "code",
   "execution_count": null,
   "id": "5f4630f7-5230-4d7b-9f93-318266022d74",
   "metadata": {},
   "outputs": [],
   "source": [
    "bb <- plot_ordination(ps.prop.noC, ps.prop.noC.ord, \n",
    "   color=\"DepthSection\",\n",
    "   shape=\"Subsite\",\n",
    ")\n",
    "\n",
    "lbs <- geom_text(label=sample_data(ps.prop.noC)$Core,\n",
    "                 color = \"black\",\n",
    "                 nudge_x = 0.05, nudge_y = 0.05,\n",
    "                 check_overlap = T)\n",
    "\n",
    "myPalette <- colorRampPalette(rev(brewer.pal(8, \"YlOrBr\")))\n",
    "sc <- scale_colour_gradientn(colours = myPalette(100), limits=c(5, 0), trans=\"reverse\")\n",
    "bb + sc + lbs + geom_point(size=3.5)"
   ]
  },
  {
   "cell_type": "markdown",
   "id": "4e4a97c7-bf78-43c4-9fa6-9f7e5f6afe86",
   "metadata": {},
   "source": [
    "For some reason that won't work inside the jupyter notebook. Works on my terminal, this is the output:"
   ]
  },
  {
   "cell_type": "markdown",
   "id": "fd6e7428-7eaa-41dd-9ea9-eb3e516f4141",
   "metadata": {
    "scrolled": true
   },
   "source": [
    "<img src=\"ordinationPeat.png\" width=\"950\" height=\"450\">"
   ]
  },
  {
   "cell_type": "code",
   "execution_count": null,
   "id": "f22bb2fc-4b0f-44c9-9ee4-ec2ee353fda7",
   "metadata": {},
   "outputs": [],
   "source": []
  }
 ],
 "metadata": {
  "kernelspec": {
   "display_name": "R",
   "language": "R",
   "name": "ir"
  },
  "language_info": {
   "codemirror_mode": "r",
   "file_extension": ".r",
   "mimetype": "text/x-r-source",
   "name": "R",
   "pygments_lexer": "r",
   "version": "4.5.1"
  }
 },
 "nbformat": 4,
 "nbformat_minor": 5
}
